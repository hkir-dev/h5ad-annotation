{
 "cells": [
  {
   "cell_type": "markdown",
   "id": "90678f66",
   "metadata": {},
   "source": [
    "# BDSO annotations"
   ]
  },
  {
   "cell_type": "markdown",
   "id": "a8fecd30",
   "metadata": {},
   "source": [
    "## Import depedencies "
   ]
  },
  {
   "cell_type": "code",
   "execution_count": null,
   "id": "7d7dd813",
   "metadata": {
    "scrolled": false
   },
   "outputs": [],
   "source": [
    "## IMPORT depedencies \n",
    "\n",
    "import pandas as pd\n",
    "import scanpy as sc \n",
    "import anndata as ad\n",
    "import numpy as np\n",
    "from scipy.sparse import csr_matrix"
   ]
  },
  {
   "cell_type": "code",
   "execution_count": null,
   "id": "ea1c1cca",
   "metadata": {
    "scrolled": false
   },
   "outputs": [],
   "source": [
    "## Read h5ad file\n",
    "\n",
    "adata = sc.read(\"h5ad-downloads/an-integrated-transcriptomic-cellxgene.h5ad\")"
   ]
  },
  {
   "cell_type": "markdown",
   "id": "f162340e",
   "metadata": {},
   "source": [
    "## Explore the Data"
   ]
  },
  {
   "cell_type": "code",
   "execution_count": null,
   "id": "a56b80fe",
   "metadata": {
    "scrolled": false
   },
   "outputs": [],
   "source": [
    "## Display keys\n",
    "\n",
    "adata.obs.keys()"
   ]
  },
  {
   "cell_type": "code",
   "execution_count": null,
   "id": "ed7ac68b",
   "metadata": {
    "scrolled": false
   },
   "outputs": [],
   "source": [
    "## Looking into a specific keys - useful for quick viewing (e.g. to see how many categories of CL terms are mapped)\n",
    "\n",
    "adata.obs[['BICCN_class_label','BICCN_subclass_label','BICCN_cluster_label','BICCN_ontology_term_id','cell_type_ontology_term_id']]"
   ]
  },
  {
   "cell_type": "code",
   "execution_count": null,
   "id": "45f36ef0",
   "metadata": {},
   "outputs": [],
   "source": [
    "## Looking into specific strings in specific keys\n",
    "adata.obs.loc[adata.obs['BICCN_cluster_label']=='L6 CT Grp_1']"
   ]
  },
  {
   "cell_type": "code",
   "execution_count": null,
   "id": "92bc12cb",
   "metadata": {
    "scrolled": false
   },
   "outputs": [],
   "source": [
    "## gives and overview table of all the data in the obs layer\n",
    "pd.pandas.set_option('display.max_columns', None)\n",
    "adata.obs"
   ]
  },
  {
   "cell_type": "markdown",
   "id": "d1cfa2c8",
   "metadata": {},
   "source": [
    "## Writing a CSV\n",
    "Usually not needed, but might be useful for other purposes"
   ]
  },
  {
   "cell_type": "code",
   "execution_count": null,
   "id": "56c7d155",
   "metadata": {
    "scrolled": false
   },
   "outputs": [],
   "source": [
    "## Creating a dataframe to write out only columns you are interested in\n",
    "\n",
    "a_obs = pd.DataFrame()"
   ]
  },
  {
   "cell_type": "code",
   "execution_count": null,
   "id": "7c6c134c",
   "metadata": {
    "scrolled": false
   },
   "outputs": [],
   "source": [
    "## Allocating columns in the dataframes\n",
    "\n",
    "a_obs['author_cell_type'] = adata.obs['BICCN_cluster_label']\n",
    "a_obs['author_subclass_type'] = adata.obs['BICCN_subclass_label']\n",
    "a_obs['cell_type_ontology_term_id'] = adata.obs['cell_type_ontology_term_id']"
   ]
  },
  {
   "cell_type": "code",
   "execution_count": null,
   "id": "9284c540",
   "metadata": {
    "scrolled": false
   },
   "outputs": [],
   "source": [
    "## Create a CSV of allocated columns \n",
    "\n",
    "a_obs.to_csv(\"output/a_obs_layer.csv\")"
   ]
  },
  {
   "cell_type": "markdown",
   "id": "1f5914fc",
   "metadata": {},
   "source": [
    "## Simple Replacements\n",
    "This method uses a simple replacement by mapping BICCN_subclass_label to a CL term.\n",
    "For bigger scale replacements, use the next section."
   ]
  },
  {
   "cell_type": "code",
   "execution_count": null,
   "id": "97f09f09",
   "metadata": {
    "scrolled": false
   },
   "outputs": [],
   "source": [
    "dct = {'L6 CT': 'CL:4023042', 'Lamp5': 'CL:4023011'}"
   ]
  },
  {
   "cell_type": "code",
   "execution_count": null,
   "id": "f7dc7364",
   "metadata": {
    "scrolled": false
   },
   "outputs": [],
   "source": [
    "## Change CL term based on dictionary above\n",
    "\n",
    "adata.obs = adata.obs.assign(cell_type_ontology_term_id=adata.obs.BICCN_subclass_label.map(dct).fillna(adata.obs.cell_type_ontology_term_id))"
   ]
  },
  {
   "cell_type": "code",
   "execution_count": null,
   "id": "bbd91d79",
   "metadata": {
    "scrolled": false
   },
   "outputs": [],
   "source": [
    "## Check Changes\n",
    "\n",
    "adata.obs['cell_type_ontology_term_id']"
   ]
  },
  {
   "cell_type": "markdown",
   "id": "88a7f52b",
   "metadata": {},
   "source": [
    "## Use tsv to Replace\n",
    "This method uses a file \"mappings.tsv\" to replace cell_type_ontology_term_id by using BICCN_subclass_label"
   ]
  },
  {
   "cell_type": "code",
   "execution_count": null,
   "id": "aaf111eb",
   "metadata": {},
   "outputs": [],
   "source": [
    "## Load mappings.tsv as a dictionary\n",
    "\n",
    "mappings = open('mappings.tsv', 'r')\n",
    "dct = {}\n",
    "for line in mappings:\n",
    "    key, value = line.split('\\t')\n",
    "    key = key.strip()\n",
    "    value = value.strip()\n",
    "    dct[key] = value\n",
    "print(dct)\n",
    "mappings.close()"
   ]
  },
  {
   "cell_type": "code",
   "execution_count": null,
   "id": "31eadb34",
   "metadata": {
    "scrolled": false
   },
   "outputs": [],
   "source": [
    "## Change CL term based on dictionary above\n",
    "\n",
    "adata.obs = adata.obs.assign(cell_type_ontology_term_id=adata.obs.BICCN_subclass_label.map(dct).fillna(adata.obs.cell_type_ontology_term_id))"
   ]
  },
  {
   "cell_type": "code",
   "execution_count": null,
   "id": "06f160cf",
   "metadata": {
    "scrolled": false
   },
   "outputs": [],
   "source": [
    "## Check Changes\n",
    "\n",
    "adata.obs['cell_type_ontology_term_id']"
   ]
  },
  {
   "cell_type": "markdown",
   "id": "e7e6234f",
   "metadata": {},
   "source": [
    "## Write out"
   ]
  },
  {
   "cell_type": "code",
   "execution_count": null,
   "id": "b62e27b0",
   "metadata": {},
   "outputs": [],
   "source": [
    "## Creating new csv for checking \n",
    "\n",
    "new_obs = pd.DataFrame()\n",
    "new_obs['author_cell_type'] = adata.obs['BICCN_cluster_label']\n",
    "new_obs['author_subclass_type'] = adata.obs['BICCN_subclass_label']\n",
    "new_obs['cell_type_ontology_term_id'] = adata.obs['cell_type_ontology_term_id']\n",
    "new_obs.to_csv(\"output/new_obs_layer.csv\")"
   ]
  },
  {
   "cell_type": "code",
   "execution_count": null,
   "id": "e6e23756",
   "metadata": {},
   "outputs": [],
   "source": [
    "## Write out to new h5ad file\n",
    "\n",
    "adata.write(\"output/updated-file.h5ad\")"
   ]
  }
 ],
 "metadata": {
  "kernelspec": {
   "display_name": "Python 3 (ipykernel)",
   "language": "python",
   "name": "python3"
  },
  "language_info": {
   "codemirror_mode": {
    "name": "ipython",
    "version": 3
   },
   "file_extension": ".py",
   "mimetype": "text/x-python",
   "name": "python",
   "nbconvert_exporter": "python",
   "pygments_lexer": "ipython3",
   "version": "3.9.13"
  }
 },
 "nbformat": 4,
 "nbformat_minor": 5
}
