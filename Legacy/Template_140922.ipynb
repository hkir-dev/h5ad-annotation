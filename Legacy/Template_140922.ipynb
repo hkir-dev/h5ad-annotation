{
 "cells": [
  {
   "cell_type": "markdown",
   "id": "b711c71a",
   "metadata": {},
   "source": [
    "## Template 23/08/22\n"
   ]
  },
  {
   "cell_type": "markdown",
   "id": "e7949639",
   "metadata": {},
   "source": [
    "We need to load the following libraries. Make sure that the anndata version you have installed matches the one used by [cellxgene-schema](https://github.com/chanzuckerberg/single-cell-curation)"
   ]
  },
  {
   "cell_type": "code",
   "execution_count": 6,
   "id": "75fd8f5a",
   "metadata": {},
   "outputs": [],
   "source": [
    "import pandas as pd\n",
    "import scanpy as sc \n",
    "import anndata as ad\n",
    "import numpy as np\n",
    "from scipy.sparse import csr_matrix"
   ]
  },
  {
   "cell_type": "markdown",
   "id": "acb4e9c5",
   "metadata": {},
   "source": [
    "## Read data"
   ]
  },
  {
   "cell_type": "markdown",
   "id": "58138211",
   "metadata": {},
   "source": [
    "Read the annotated and raw h5ad, or h5 file"
   ]
  },
  {
   "cell_type": "code",
   "execution_count": 8,
   "id": "73d2ce3b",
   "metadata": {},
   "outputs": [],
   "source": [
    "adata = sc.read(\"an-integrated-transcriptomic-cellxgene.h5ad\")"
   ]
  },
  {
   "cell_type": "code",
   "execution_count": 10,
   "id": "de1be4c1",
   "metadata": {
    "scrolled": true
   },
   "outputs": [
    {
     "data": {
      "text/html": [
       "<div>\n",
       "<style scoped>\n",
       "    .dataframe tbody tr th:only-of-type {\n",
       "        vertical-align: middle;\n",
       "    }\n",
       "\n",
       "    .dataframe tbody tr th {\n",
       "        vertical-align: top;\n",
       "    }\n",
       "\n",
       "    .dataframe thead th {\n",
       "        text-align: right;\n",
       "    }\n",
       "</style>\n",
       "<table border=\"1\" class=\"dataframe\">\n",
       "  <thead>\n",
       "    <tr style=\"text-align: right;\">\n",
       "      <th></th>\n",
       "      <th>BICCN_cluster_id</th>\n",
       "      <th>QC</th>\n",
       "      <th>BICCN_cluster_label</th>\n",
       "      <th>BICCN_subclass_label</th>\n",
       "      <th>BICCN_class_label</th>\n",
       "      <th>cluster_color</th>\n",
       "      <th>size</th>\n",
       "      <th>temp_class_label</th>\n",
       "      <th>BICCN_ontology_term_id</th>\n",
       "      <th>assay_ontology_term_id</th>\n",
       "      <th>...</th>\n",
       "      <th>is_primary_data</th>\n",
       "      <th>organism_ontology_term_id</th>\n",
       "      <th>cell_type</th>\n",
       "      <th>assay</th>\n",
       "      <th>disease</th>\n",
       "      <th>organism</th>\n",
       "      <th>sex</th>\n",
       "      <th>tissue</th>\n",
       "      <th>ethnicity</th>\n",
       "      <th>development_stage</th>\n",
       "    </tr>\n",
       "  </thead>\n",
       "  <tbody>\n",
       "    <tr>\n",
       "      <th>SM-D9D8O_S03_E1-50</th>\n",
       "      <td>48.0</td>\n",
       "      <td>1201</td>\n",
       "      <td>L6 CT Grp_1</td>\n",
       "      <td>L6 CT</td>\n",
       "      <td>Glutamatergic</td>\n",
       "      <td>#197A6E</td>\n",
       "      <td>781.0</td>\n",
       "      <td>GlutamatergicL6 CT</td>\n",
       "      <td>ILX:0770162</td>\n",
       "      <td>EFO:0008930</td>\n",
       "      <td>...</td>\n",
       "      <td>True</td>\n",
       "      <td>NCBITaxon:10090</td>\n",
       "      <td>glutamatergic neuron</td>\n",
       "      <td>Smart-seq</td>\n",
       "      <td>normal</td>\n",
       "      <td>Mus musculus</td>\n",
       "      <td>male</td>\n",
       "      <td>primary motor cortex</td>\n",
       "      <td>na</td>\n",
       "      <td>early adult stage</td>\n",
       "    </tr>\n",
       "    <tr>\n",
       "      <th>SM-DAIH5_S47_E1-50</th>\n",
       "      <td>48.0</td>\n",
       "      <td>3678</td>\n",
       "      <td>L6 CT Grp_1</td>\n",
       "      <td>L6 CT</td>\n",
       "      <td>Glutamatergic</td>\n",
       "      <td>#197A6E</td>\n",
       "      <td>781.0</td>\n",
       "      <td>GlutamatergicL6 CT</td>\n",
       "      <td>ILX:0770162</td>\n",
       "      <td>EFO:0008930</td>\n",
       "      <td>...</td>\n",
       "      <td>True</td>\n",
       "      <td>NCBITaxon:10090</td>\n",
       "      <td>glutamatergic neuron</td>\n",
       "      <td>Smart-seq</td>\n",
       "      <td>normal</td>\n",
       "      <td>Mus musculus</td>\n",
       "      <td>male</td>\n",
       "      <td>primary motor cortex</td>\n",
       "      <td>na</td>\n",
       "      <td>early adult stage</td>\n",
       "    </tr>\n",
       "    <tr>\n",
       "      <th>SM-DD44L_S43_E1-50</th>\n",
       "      <td>4.0</td>\n",
       "      <td>4495</td>\n",
       "      <td>Lamp5 Slc35d3</td>\n",
       "      <td>Lamp5</td>\n",
       "      <td>GABAergic</td>\n",
       "      <td>#FFA388</td>\n",
       "      <td>194.0</td>\n",
       "      <td>GABAergicLamp5</td>\n",
       "      <td>ILX:0770149</td>\n",
       "      <td>EFO:0008930</td>\n",
       "      <td>...</td>\n",
       "      <td>True</td>\n",
       "      <td>NCBITaxon:10090</td>\n",
       "      <td>GABAergic neuron</td>\n",
       "      <td>Smart-seq</td>\n",
       "      <td>normal</td>\n",
       "      <td>Mus musculus</td>\n",
       "      <td>male</td>\n",
       "      <td>primary motor cortex</td>\n",
       "      <td>na</td>\n",
       "      <td>early adult stage</td>\n",
       "    </tr>\n",
       "    <tr>\n",
       "      <th>SM-D9E5O_S40_E1-50</th>\n",
       "      <td>49.0</td>\n",
       "      <td>1499</td>\n",
       "      <td>L6 CT Grp_2</td>\n",
       "      <td>L6 CT</td>\n",
       "      <td>Glutamatergic</td>\n",
       "      <td>#358459</td>\n",
       "      <td>24.0</td>\n",
       "      <td>GlutamatergicL6 CT</td>\n",
       "      <td>ILX:0770162</td>\n",
       "      <td>EFO:0008930</td>\n",
       "      <td>...</td>\n",
       "      <td>True</td>\n",
       "      <td>NCBITaxon:10090</td>\n",
       "      <td>glutamatergic neuron</td>\n",
       "      <td>Smart-seq</td>\n",
       "      <td>normal</td>\n",
       "      <td>Mus musculus</td>\n",
       "      <td>female</td>\n",
       "      <td>primary motor cortex</td>\n",
       "      <td>na</td>\n",
       "      <td>early adult stage</td>\n",
       "    </tr>\n",
       "    <tr>\n",
       "      <th>LS-15533_S14_E12-50</th>\n",
       "      <td>37.0</td>\n",
       "      <td>391</td>\n",
       "      <td>L5 IT S100b_1</td>\n",
       "      <td>L5 IT</td>\n",
       "      <td>Glutamatergic</td>\n",
       "      <td>#00CF1F</td>\n",
       "      <td>251.0</td>\n",
       "      <td>GlutamatergicL5 IT</td>\n",
       "      <td>ILX:0770157</td>\n",
       "      <td>EFO:0008930</td>\n",
       "      <td>...</td>\n",
       "      <td>True</td>\n",
       "      <td>NCBITaxon:10090</td>\n",
       "      <td>glutamatergic neuron</td>\n",
       "      <td>Smart-seq</td>\n",
       "      <td>normal</td>\n",
       "      <td>Mus musculus</td>\n",
       "      <td>female</td>\n",
       "      <td>primary motor cortex</td>\n",
       "      <td>na</td>\n",
       "      <td>early adult stage</td>\n",
       "    </tr>\n",
       "    <tr>\n",
       "      <th>...</th>\n",
       "      <td>...</td>\n",
       "      <td>...</td>\n",
       "      <td>...</td>\n",
       "      <td>...</td>\n",
       "      <td>...</td>\n",
       "      <td>...</td>\n",
       "      <td>...</td>\n",
       "      <td>...</td>\n",
       "      <td>...</td>\n",
       "      <td>...</td>\n",
       "      <td>...</td>\n",
       "      <td>...</td>\n",
       "      <td>...</td>\n",
       "      <td>...</td>\n",
       "      <td>...</td>\n",
       "      <td>...</td>\n",
       "      <td>...</td>\n",
       "      <td>...</td>\n",
       "      <td>...</td>\n",
       "      <td>...</td>\n",
       "      <td>...</td>\n",
       "    </tr>\n",
       "    <tr>\n",
       "      <th>SM-GE66G_S146_E1-50</th>\n",
       "      <td>37.0</td>\n",
       "      <td>6098</td>\n",
       "      <td>L6 CT</td>\n",
       "      <td>L6 CT</td>\n",
       "      <td>Glutamatergic</td>\n",
       "      <td>#197A6E</td>\n",
       "      <td>1288.0</td>\n",
       "      <td>GlutamatergicL6 CT</td>\n",
       "      <td>ILX:0770162</td>\n",
       "      <td>EFO:0008930</td>\n",
       "      <td>...</td>\n",
       "      <td>True</td>\n",
       "      <td>NCBITaxon:10090</td>\n",
       "      <td>glutamatergic neuron</td>\n",
       "      <td>Smart-seq</td>\n",
       "      <td>normal</td>\n",
       "      <td>Mus musculus</td>\n",
       "      <td>male</td>\n",
       "      <td>primary motor cortex</td>\n",
       "      <td>na</td>\n",
       "      <td>early adult stage</td>\n",
       "    </tr>\n",
       "    <tr>\n",
       "      <th>SM-GE64N_S067_E1-50</th>\n",
       "      <td>22.0</td>\n",
       "      <td>1714</td>\n",
       "      <td>Pvalb Il1rapl2</td>\n",
       "      <td>Pvalb</td>\n",
       "      <td>GABAergic</td>\n",
       "      <td>#BC2C41</td>\n",
       "      <td>163.0</td>\n",
       "      <td>GABAergicPvalb</td>\n",
       "      <td>ILX:0770154</td>\n",
       "      <td>EFO:0008930</td>\n",
       "      <td>...</td>\n",
       "      <td>True</td>\n",
       "      <td>NCBITaxon:10090</td>\n",
       "      <td>GABAergic neuron</td>\n",
       "      <td>Smart-seq</td>\n",
       "      <td>normal</td>\n",
       "      <td>Mus musculus</td>\n",
       "      <td>male</td>\n",
       "      <td>primary motor cortex</td>\n",
       "      <td>na</td>\n",
       "      <td>early adult stage</td>\n",
       "    </tr>\n",
       "    <tr>\n",
       "      <th>SM-GE66N_S162_E1-50</th>\n",
       "      <td>37.0</td>\n",
       "      <td>4802</td>\n",
       "      <td>L6 CT</td>\n",
       "      <td>L6 CT</td>\n",
       "      <td>Glutamatergic</td>\n",
       "      <td>#197A6E</td>\n",
       "      <td>1288.0</td>\n",
       "      <td>GlutamatergicL6 CT</td>\n",
       "      <td>ILX:0770162</td>\n",
       "      <td>EFO:0008930</td>\n",
       "      <td>...</td>\n",
       "      <td>True</td>\n",
       "      <td>NCBITaxon:10090</td>\n",
       "      <td>glutamatergic neuron</td>\n",
       "      <td>Smart-seq</td>\n",
       "      <td>normal</td>\n",
       "      <td>Mus musculus</td>\n",
       "      <td>female</td>\n",
       "      <td>primary motor cortex</td>\n",
       "      <td>na</td>\n",
       "      <td>early adult stage</td>\n",
       "    </tr>\n",
       "    <tr>\n",
       "      <th>SM-GE66A_S184_E1-50</th>\n",
       "      <td>18.0</td>\n",
       "      <td>5295</td>\n",
       "      <td>Sst Pvalb Th</td>\n",
       "      <td>Sst</td>\n",
       "      <td>GABAergic</td>\n",
       "      <td>#FF2F7E</td>\n",
       "      <td>25.0</td>\n",
       "      <td>GABAergicSst</td>\n",
       "      <td>ILX:0770152</td>\n",
       "      <td>EFO:0008930</td>\n",
       "      <td>...</td>\n",
       "      <td>True</td>\n",
       "      <td>NCBITaxon:10090</td>\n",
       "      <td>GABAergic neuron</td>\n",
       "      <td>Smart-seq</td>\n",
       "      <td>normal</td>\n",
       "      <td>Mus musculus</td>\n",
       "      <td>female</td>\n",
       "      <td>primary motor cortex</td>\n",
       "      <td>na</td>\n",
       "      <td>early adult stage</td>\n",
       "    </tr>\n",
       "    <tr>\n",
       "      <th>SM-GE66O_S139_E1-50</th>\n",
       "      <td>22.0</td>\n",
       "      <td>4937</td>\n",
       "      <td>Pvalb Il1rapl2</td>\n",
       "      <td>Pvalb</td>\n",
       "      <td>GABAergic</td>\n",
       "      <td>#BC2C41</td>\n",
       "      <td>163.0</td>\n",
       "      <td>GABAergicPvalb</td>\n",
       "      <td>ILX:0770154</td>\n",
       "      <td>EFO:0008930</td>\n",
       "      <td>...</td>\n",
       "      <td>True</td>\n",
       "      <td>NCBITaxon:10090</td>\n",
       "      <td>GABAergic neuron</td>\n",
       "      <td>Smart-seq</td>\n",
       "      <td>normal</td>\n",
       "      <td>Mus musculus</td>\n",
       "      <td>female</td>\n",
       "      <td>primary motor cortex</td>\n",
       "      <td>na</td>\n",
       "      <td>early adult stage</td>\n",
       "    </tr>\n",
       "  </tbody>\n",
       "</table>\n",
       "<p>406187 rows × 28 columns</p>\n",
       "</div>"
      ],
      "text/plain": [
       "                     BICCN_cluster_id    QC BICCN_cluster_label  \\\n",
       "SM-D9D8O_S03_E1-50               48.0  1201         L6 CT Grp_1   \n",
       "SM-DAIH5_S47_E1-50               48.0  3678         L6 CT Grp_1   \n",
       "SM-DD44L_S43_E1-50                4.0  4495       Lamp5 Slc35d3   \n",
       "SM-D9E5O_S40_E1-50               49.0  1499         L6 CT Grp_2   \n",
       "LS-15533_S14_E12-50              37.0   391       L5 IT S100b_1   \n",
       "...                               ...   ...                 ...   \n",
       "SM-GE66G_S146_E1-50              37.0  6098               L6 CT   \n",
       "SM-GE64N_S067_E1-50              22.0  1714      Pvalb Il1rapl2   \n",
       "SM-GE66N_S162_E1-50              37.0  4802               L6 CT   \n",
       "SM-GE66A_S184_E1-50              18.0  5295        Sst Pvalb Th   \n",
       "SM-GE66O_S139_E1-50              22.0  4937      Pvalb Il1rapl2   \n",
       "\n",
       "                    BICCN_subclass_label BICCN_class_label cluster_color  \\\n",
       "SM-D9D8O_S03_E1-50                 L6 CT     Glutamatergic       #197A6E   \n",
       "SM-DAIH5_S47_E1-50                 L6 CT     Glutamatergic       #197A6E   \n",
       "SM-DD44L_S43_E1-50                 Lamp5         GABAergic       #FFA388   \n",
       "SM-D9E5O_S40_E1-50                 L6 CT     Glutamatergic       #358459   \n",
       "LS-15533_S14_E12-50                L5 IT     Glutamatergic       #00CF1F   \n",
       "...                                  ...               ...           ...   \n",
       "SM-GE66G_S146_E1-50                L6 CT     Glutamatergic       #197A6E   \n",
       "SM-GE64N_S067_E1-50                Pvalb         GABAergic       #BC2C41   \n",
       "SM-GE66N_S162_E1-50                L6 CT     Glutamatergic       #197A6E   \n",
       "SM-GE66A_S184_E1-50                  Sst         GABAergic       #FF2F7E   \n",
       "SM-GE66O_S139_E1-50                Pvalb         GABAergic       #BC2C41   \n",
       "\n",
       "                       size    temp_class_label BICCN_ontology_term_id  \\\n",
       "SM-D9D8O_S03_E1-50    781.0  GlutamatergicL6 CT            ILX:0770162   \n",
       "SM-DAIH5_S47_E1-50    781.0  GlutamatergicL6 CT            ILX:0770162   \n",
       "SM-DD44L_S43_E1-50    194.0      GABAergicLamp5            ILX:0770149   \n",
       "SM-D9E5O_S40_E1-50     24.0  GlutamatergicL6 CT            ILX:0770162   \n",
       "LS-15533_S14_E12-50   251.0  GlutamatergicL5 IT            ILX:0770157   \n",
       "...                     ...                 ...                    ...   \n",
       "SM-GE66G_S146_E1-50  1288.0  GlutamatergicL6 CT            ILX:0770162   \n",
       "SM-GE64N_S067_E1-50   163.0      GABAergicPvalb            ILX:0770154   \n",
       "SM-GE66N_S162_E1-50  1288.0  GlutamatergicL6 CT            ILX:0770162   \n",
       "SM-GE66A_S184_E1-50    25.0        GABAergicSst            ILX:0770152   \n",
       "SM-GE66O_S139_E1-50   163.0      GABAergicPvalb            ILX:0770154   \n",
       "\n",
       "                    assay_ontology_term_id  ... is_primary_data  \\\n",
       "SM-D9D8O_S03_E1-50             EFO:0008930  ...            True   \n",
       "SM-DAIH5_S47_E1-50             EFO:0008930  ...            True   \n",
       "SM-DD44L_S43_E1-50             EFO:0008930  ...            True   \n",
       "SM-D9E5O_S40_E1-50             EFO:0008930  ...            True   \n",
       "LS-15533_S14_E12-50            EFO:0008930  ...            True   \n",
       "...                                    ...  ...             ...   \n",
       "SM-GE66G_S146_E1-50            EFO:0008930  ...            True   \n",
       "SM-GE64N_S067_E1-50            EFO:0008930  ...            True   \n",
       "SM-GE66N_S162_E1-50            EFO:0008930  ...            True   \n",
       "SM-GE66A_S184_E1-50            EFO:0008930  ...            True   \n",
       "SM-GE66O_S139_E1-50            EFO:0008930  ...            True   \n",
       "\n",
       "                    organism_ontology_term_id             cell_type  \\\n",
       "SM-D9D8O_S03_E1-50            NCBITaxon:10090  glutamatergic neuron   \n",
       "SM-DAIH5_S47_E1-50            NCBITaxon:10090  glutamatergic neuron   \n",
       "SM-DD44L_S43_E1-50            NCBITaxon:10090      GABAergic neuron   \n",
       "SM-D9E5O_S40_E1-50            NCBITaxon:10090  glutamatergic neuron   \n",
       "LS-15533_S14_E12-50           NCBITaxon:10090  glutamatergic neuron   \n",
       "...                                       ...                   ...   \n",
       "SM-GE66G_S146_E1-50           NCBITaxon:10090  glutamatergic neuron   \n",
       "SM-GE64N_S067_E1-50           NCBITaxon:10090      GABAergic neuron   \n",
       "SM-GE66N_S162_E1-50           NCBITaxon:10090  glutamatergic neuron   \n",
       "SM-GE66A_S184_E1-50           NCBITaxon:10090      GABAergic neuron   \n",
       "SM-GE66O_S139_E1-50           NCBITaxon:10090      GABAergic neuron   \n",
       "\n",
       "                         assay disease      organism     sex  \\\n",
       "SM-D9D8O_S03_E1-50   Smart-seq  normal  Mus musculus    male   \n",
       "SM-DAIH5_S47_E1-50   Smart-seq  normal  Mus musculus    male   \n",
       "SM-DD44L_S43_E1-50   Smart-seq  normal  Mus musculus    male   \n",
       "SM-D9E5O_S40_E1-50   Smart-seq  normal  Mus musculus  female   \n",
       "LS-15533_S14_E12-50  Smart-seq  normal  Mus musculus  female   \n",
       "...                        ...     ...           ...     ...   \n",
       "SM-GE66G_S146_E1-50  Smart-seq  normal  Mus musculus    male   \n",
       "SM-GE64N_S067_E1-50  Smart-seq  normal  Mus musculus    male   \n",
       "SM-GE66N_S162_E1-50  Smart-seq  normal  Mus musculus  female   \n",
       "SM-GE66A_S184_E1-50  Smart-seq  normal  Mus musculus  female   \n",
       "SM-GE66O_S139_E1-50  Smart-seq  normal  Mus musculus  female   \n",
       "\n",
       "                                   tissue  ethnicity  development_stage  \n",
       "SM-D9D8O_S03_E1-50   primary motor cortex         na  early adult stage  \n",
       "SM-DAIH5_S47_E1-50   primary motor cortex         na  early adult stage  \n",
       "SM-DD44L_S43_E1-50   primary motor cortex         na  early adult stage  \n",
       "SM-D9E5O_S40_E1-50   primary motor cortex         na  early adult stage  \n",
       "LS-15533_S14_E12-50  primary motor cortex         na  early adult stage  \n",
       "...                                   ...        ...                ...  \n",
       "SM-GE66G_S146_E1-50  primary motor cortex         na  early adult stage  \n",
       "SM-GE64N_S067_E1-50  primary motor cortex         na  early adult stage  \n",
       "SM-GE66N_S162_E1-50  primary motor cortex         na  early adult stage  \n",
       "SM-GE66A_S184_E1-50  primary motor cortex         na  early adult stage  \n",
       "SM-GE66O_S139_E1-50  primary motor cortex         na  early adult stage  \n",
       "\n",
       "[406187 rows x 28 columns]"
      ]
     },
     "execution_count": 10,
     "metadata": {},
     "output_type": "execute_result"
    }
   ],
   "source": [
    "adata.obs"
   ]
  },
  {
   "cell_type": "code",
   "execution_count": 16,
   "id": "811242e3",
   "metadata": {},
   "outputs": [
    {
     "data": {
      "text/plain": [
       "Index(['BICCN_cluster_id', 'QC', 'BICCN_cluster_label', 'BICCN_subclass_label',\n",
       "       'BICCN_class_label', 'cluster_color', 'size', 'temp_class_label',\n",
       "       'BICCN_ontology_term_id', 'assay_ontology_term_id', 'sex_original',\n",
       "       'disease_ontology_term_id', 'tissue_ontology_term_id', 'BICCN_project',\n",
       "       'cell_type_ontology_term_id', 'ethnicity_ontology_term_id',\n",
       "       'development_stage_ontology_term_id', 'sex_ontology_term_id',\n",
       "       'is_primary_data', 'organism_ontology_term_id', 'cell_type', 'assay',\n",
       "       'disease', 'organism', 'sex', 'tissue', 'ethnicity',\n",
       "       'development_stage'],\n",
       "      dtype='object')"
      ]
     },
     "execution_count": 16,
     "metadata": {},
     "output_type": "execute_result"
    }
   ],
   "source": [
    "adata.obs.keys()"
   ]
  },
  {
   "cell_type": "code",
   "execution_count": 33,
   "id": "a4f716ae",
   "metadata": {},
   "outputs": [
    {
     "data": {
      "text/plain": [
       "SM-D9D8O_S03_E1-50     48.0\n",
       "SM-DAIH5_S47_E1-50     48.0\n",
       "SM-DD44L_S43_E1-50      4.0\n",
       "SM-D9E5O_S40_E1-50     49.0\n",
       "LS-15533_S14_E12-50    37.0\n",
       "                       ... \n",
       "SM-GE66G_S146_E1-50    37.0\n",
       "SM-GE64N_S067_E1-50    22.0\n",
       "SM-GE66N_S162_E1-50    37.0\n",
       "SM-GE66A_S184_E1-50    18.0\n",
       "SM-GE66O_S139_E1-50    22.0\n",
       "Name: BICCN_cluster_id, Length: 406187, dtype: float64"
      ]
     },
     "execution_count": 33,
     "metadata": {},
     "output_type": "execute_result"
    }
   ],
   "source": [
    "adata.obs['BICCN_cluster_id']"
   ]
  },
  {
   "cell_type": "code",
   "execution_count": 18,
   "id": "edbcca4e",
   "metadata": {},
   "outputs": [
    {
     "data": {
      "text/plain": [
       "<406187x22356 sparse matrix of type '<class 'numpy.float32'>'\n",
       "\twith 1782527167 stored elements in Compressed Sparse Row format>"
      ]
     },
     "execution_count": 18,
     "metadata": {},
     "output_type": "execute_result"
    }
   ],
   "source": [
    "adata.X"
   ]
  },
  {
   "cell_type": "code",
   "execution_count": 19,
   "id": "6a8b23fc",
   "metadata": {},
   "outputs": [
    {
     "data": {
      "text/html": [
       "<div>\n",
       "<style scoped>\n",
       "    .dataframe tbody tr th:only-of-type {\n",
       "        vertical-align: middle;\n",
       "    }\n",
       "\n",
       "    .dataframe tbody tr th {\n",
       "        vertical-align: top;\n",
       "    }\n",
       "\n",
       "    .dataframe thead th {\n",
       "        text-align: right;\n",
       "    }\n",
       "</style>\n",
       "<table border=\"1\" class=\"dataframe\">\n",
       "  <thead>\n",
       "    <tr style=\"text-align: right;\">\n",
       "      <th></th>\n",
       "      <th>Unnamed: 0</th>\n",
       "      <th>feature_biotype</th>\n",
       "      <th>feature_is_filtered</th>\n",
       "      <th>feature_name</th>\n",
       "      <th>feature_reference</th>\n",
       "    </tr>\n",
       "    <tr>\n",
       "      <th>feature_id</th>\n",
       "      <th></th>\n",
       "      <th></th>\n",
       "      <th></th>\n",
       "      <th></th>\n",
       "      <th></th>\n",
       "    </tr>\n",
       "  </thead>\n",
       "  <tbody>\n",
       "    <tr>\n",
       "      <th>ENSMUSG00000029422</th>\n",
       "      <td>7173.0</td>\n",
       "      <td>gene</td>\n",
       "      <td>False</td>\n",
       "      <td>Rsrc2</td>\n",
       "      <td>NCBITaxon:10090</td>\n",
       "    </tr>\n",
       "    <tr>\n",
       "      <th>ENSMUSG00000049036</th>\n",
       "      <td>18484.0</td>\n",
       "      <td>gene</td>\n",
       "      <td>False</td>\n",
       "      <td>Tmem121</td>\n",
       "      <td>NCBITaxon:10090</td>\n",
       "    </tr>\n",
       "    <tr>\n",
       "      <th>ENSMUSG00000029577</th>\n",
       "      <td>7022.0</td>\n",
       "      <td>gene</td>\n",
       "      <td>False</td>\n",
       "      <td>Ube3b</td>\n",
       "      <td>NCBITaxon:10090</td>\n",
       "    </tr>\n",
       "    <tr>\n",
       "      <th>ENSMUSG00000040746</th>\n",
       "      <td>15950.0</td>\n",
       "      <td>gene</td>\n",
       "      <td>False</td>\n",
       "      <td>Rnf167</td>\n",
       "      <td>NCBITaxon:10090</td>\n",
       "    </tr>\n",
       "    <tr>\n",
       "      <th>ENSMUSG00000020590</th>\n",
       "      <td>17963.0</td>\n",
       "      <td>gene</td>\n",
       "      <td>False</td>\n",
       "      <td>Snx13</td>\n",
       "      <td>NCBITaxon:10090</td>\n",
       "    </tr>\n",
       "    <tr>\n",
       "      <th>...</th>\n",
       "      <td>...</td>\n",
       "      <td>...</td>\n",
       "      <td>...</td>\n",
       "      <td>...</td>\n",
       "      <td>...</td>\n",
       "    </tr>\n",
       "    <tr>\n",
       "      <th>ENSMUSG00000102368</th>\n",
       "      <td>792.0</td>\n",
       "      <td>gene</td>\n",
       "      <td>False</td>\n",
       "      <td>4930590L20Rik</td>\n",
       "      <td>NCBITaxon:10090</td>\n",
       "    </tr>\n",
       "    <tr>\n",
       "      <th>ENSMUSG00000021033</th>\n",
       "      <td>18266.0</td>\n",
       "      <td>gene</td>\n",
       "      <td>False</td>\n",
       "      <td>Gstz1</td>\n",
       "      <td>NCBITaxon:10090</td>\n",
       "    </tr>\n",
       "    <tr>\n",
       "      <th>ENSMUSG00000030657</th>\n",
       "      <td>10469.0</td>\n",
       "      <td>gene</td>\n",
       "      <td>False</td>\n",
       "      <td>Xylt1</td>\n",
       "      <td>NCBITaxon:10090</td>\n",
       "    </tr>\n",
       "    <tr>\n",
       "      <th>ENSMUSG00000037924</th>\n",
       "      <td>1043.0</td>\n",
       "      <td>gene</td>\n",
       "      <td>False</td>\n",
       "      <td>Olfr16</td>\n",
       "      <td>NCBITaxon:10090</td>\n",
       "    </tr>\n",
       "    <tr>\n",
       "      <th>ENSMUSG00000040693</th>\n",
       "      <td>577.0</td>\n",
       "      <td>gene</td>\n",
       "      <td>False</td>\n",
       "      <td>Slco4c1</td>\n",
       "      <td>NCBITaxon:10090</td>\n",
       "    </tr>\n",
       "  </tbody>\n",
       "</table>\n",
       "<p>22356 rows × 5 columns</p>\n",
       "</div>"
      ],
      "text/plain": [
       "                    Unnamed: 0 feature_biotype  feature_is_filtered  \\\n",
       "feature_id                                                            \n",
       "ENSMUSG00000029422      7173.0            gene                False   \n",
       "ENSMUSG00000049036     18484.0            gene                False   \n",
       "ENSMUSG00000029577      7022.0            gene                False   \n",
       "ENSMUSG00000040746     15950.0            gene                False   \n",
       "ENSMUSG00000020590     17963.0            gene                False   \n",
       "...                        ...             ...                  ...   \n",
       "ENSMUSG00000102368       792.0            gene                False   \n",
       "ENSMUSG00000021033     18266.0            gene                False   \n",
       "ENSMUSG00000030657     10469.0            gene                False   \n",
       "ENSMUSG00000037924      1043.0            gene                False   \n",
       "ENSMUSG00000040693       577.0            gene                False   \n",
       "\n",
       "                     feature_name feature_reference  \n",
       "feature_id                                           \n",
       "ENSMUSG00000029422          Rsrc2   NCBITaxon:10090  \n",
       "ENSMUSG00000049036        Tmem121   NCBITaxon:10090  \n",
       "ENSMUSG00000029577          Ube3b   NCBITaxon:10090  \n",
       "ENSMUSG00000040746         Rnf167   NCBITaxon:10090  \n",
       "ENSMUSG00000020590          Snx13   NCBITaxon:10090  \n",
       "...                           ...               ...  \n",
       "ENSMUSG00000102368  4930590L20Rik   NCBITaxon:10090  \n",
       "ENSMUSG00000021033          Gstz1   NCBITaxon:10090  \n",
       "ENSMUSG00000030657          Xylt1   NCBITaxon:10090  \n",
       "ENSMUSG00000037924         Olfr16   NCBITaxon:10090  \n",
       "ENSMUSG00000040693        Slco4c1   NCBITaxon:10090  \n",
       "\n",
       "[22356 rows x 5 columns]"
      ]
     },
     "execution_count": 19,
     "metadata": {},
     "output_type": "execute_result"
    }
   ],
   "source": [
    "adata.var"
   ]
  },
  {
   "cell_type": "code",
   "execution_count": 20,
   "id": "89c0914d",
   "metadata": {},
   "outputs": [
    {
     "data": {
      "text/html": [
       "<div>\n",
       "<style scoped>\n",
       "    .dataframe tbody tr th:only-of-type {\n",
       "        vertical-align: middle;\n",
       "    }\n",
       "\n",
       "    .dataframe tbody tr th {\n",
       "        vertical-align: top;\n",
       "    }\n",
       "\n",
       "    .dataframe thead th {\n",
       "        text-align: right;\n",
       "    }\n",
       "</style>\n",
       "<table border=\"1\" class=\"dataframe\">\n",
       "  <thead>\n",
       "    <tr style=\"text-align: right;\">\n",
       "      <th></th>\n",
       "      <th>BICCN_cluster_id</th>\n",
       "      <th>QC</th>\n",
       "      <th>BICCN_cluster_label</th>\n",
       "      <th>BICCN_subclass_label</th>\n",
       "      <th>BICCN_class_label</th>\n",
       "      <th>cluster_color</th>\n",
       "      <th>size</th>\n",
       "      <th>temp_class_label</th>\n",
       "      <th>BICCN_ontology_term_id</th>\n",
       "      <th>assay_ontology_term_id</th>\n",
       "      <th>...</th>\n",
       "      <th>is_primary_data</th>\n",
       "      <th>organism_ontology_term_id</th>\n",
       "      <th>cell_type</th>\n",
       "      <th>assay</th>\n",
       "      <th>disease</th>\n",
       "      <th>organism</th>\n",
       "      <th>sex</th>\n",
       "      <th>tissue</th>\n",
       "      <th>ethnicity</th>\n",
       "      <th>development_stage</th>\n",
       "    </tr>\n",
       "  </thead>\n",
       "  <tbody>\n",
       "    <tr>\n",
       "      <th>SM-D9D8O_S03_E1-50</th>\n",
       "      <td>48.0</td>\n",
       "      <td>1201</td>\n",
       "      <td>L6 CT Grp_1</td>\n",
       "      <td>L6 CT</td>\n",
       "      <td>Glutamatergic</td>\n",
       "      <td>#197A6E</td>\n",
       "      <td>781.0</td>\n",
       "      <td>GlutamatergicL6 CT</td>\n",
       "      <td>ILX:0770162</td>\n",
       "      <td>EFO:0008930</td>\n",
       "      <td>...</td>\n",
       "      <td>True</td>\n",
       "      <td>NCBITaxon:10090</td>\n",
       "      <td>glutamatergic neuron</td>\n",
       "      <td>Smart-seq</td>\n",
       "      <td>normal</td>\n",
       "      <td>Mus musculus</td>\n",
       "      <td>male</td>\n",
       "      <td>primary motor cortex</td>\n",
       "      <td>na</td>\n",
       "      <td>early adult stage</td>\n",
       "    </tr>\n",
       "    <tr>\n",
       "      <th>SM-DAIH5_S47_E1-50</th>\n",
       "      <td>48.0</td>\n",
       "      <td>3678</td>\n",
       "      <td>L6 CT Grp_1</td>\n",
       "      <td>L6 CT</td>\n",
       "      <td>Glutamatergic</td>\n",
       "      <td>#197A6E</td>\n",
       "      <td>781.0</td>\n",
       "      <td>GlutamatergicL6 CT</td>\n",
       "      <td>ILX:0770162</td>\n",
       "      <td>EFO:0008930</td>\n",
       "      <td>...</td>\n",
       "      <td>True</td>\n",
       "      <td>NCBITaxon:10090</td>\n",
       "      <td>glutamatergic neuron</td>\n",
       "      <td>Smart-seq</td>\n",
       "      <td>normal</td>\n",
       "      <td>Mus musculus</td>\n",
       "      <td>male</td>\n",
       "      <td>primary motor cortex</td>\n",
       "      <td>na</td>\n",
       "      <td>early adult stage</td>\n",
       "    </tr>\n",
       "    <tr>\n",
       "      <th>SM-DD44L_S43_E1-50</th>\n",
       "      <td>4.0</td>\n",
       "      <td>4495</td>\n",
       "      <td>Lamp5 Slc35d3</td>\n",
       "      <td>Lamp5</td>\n",
       "      <td>GABAergic</td>\n",
       "      <td>#FFA388</td>\n",
       "      <td>194.0</td>\n",
       "      <td>GABAergicLamp5</td>\n",
       "      <td>ILX:0770149</td>\n",
       "      <td>EFO:0008930</td>\n",
       "      <td>...</td>\n",
       "      <td>True</td>\n",
       "      <td>NCBITaxon:10090</td>\n",
       "      <td>GABAergic neuron</td>\n",
       "      <td>Smart-seq</td>\n",
       "      <td>normal</td>\n",
       "      <td>Mus musculus</td>\n",
       "      <td>male</td>\n",
       "      <td>primary motor cortex</td>\n",
       "      <td>na</td>\n",
       "      <td>early adult stage</td>\n",
       "    </tr>\n",
       "    <tr>\n",
       "      <th>SM-D9E5O_S40_E1-50</th>\n",
       "      <td>49.0</td>\n",
       "      <td>1499</td>\n",
       "      <td>L6 CT Grp_2</td>\n",
       "      <td>L6 CT</td>\n",
       "      <td>Glutamatergic</td>\n",
       "      <td>#358459</td>\n",
       "      <td>24.0</td>\n",
       "      <td>GlutamatergicL6 CT</td>\n",
       "      <td>ILX:0770162</td>\n",
       "      <td>EFO:0008930</td>\n",
       "      <td>...</td>\n",
       "      <td>True</td>\n",
       "      <td>NCBITaxon:10090</td>\n",
       "      <td>glutamatergic neuron</td>\n",
       "      <td>Smart-seq</td>\n",
       "      <td>normal</td>\n",
       "      <td>Mus musculus</td>\n",
       "      <td>female</td>\n",
       "      <td>primary motor cortex</td>\n",
       "      <td>na</td>\n",
       "      <td>early adult stage</td>\n",
       "    </tr>\n",
       "    <tr>\n",
       "      <th>LS-15533_S14_E12-50</th>\n",
       "      <td>37.0</td>\n",
       "      <td>391</td>\n",
       "      <td>L5 IT S100b_1</td>\n",
       "      <td>L5 IT</td>\n",
       "      <td>Glutamatergic</td>\n",
       "      <td>#00CF1F</td>\n",
       "      <td>251.0</td>\n",
       "      <td>GlutamatergicL5 IT</td>\n",
       "      <td>ILX:0770157</td>\n",
       "      <td>EFO:0008930</td>\n",
       "      <td>...</td>\n",
       "      <td>True</td>\n",
       "      <td>NCBITaxon:10090</td>\n",
       "      <td>glutamatergic neuron</td>\n",
       "      <td>Smart-seq</td>\n",
       "      <td>normal</td>\n",
       "      <td>Mus musculus</td>\n",
       "      <td>female</td>\n",
       "      <td>primary motor cortex</td>\n",
       "      <td>na</td>\n",
       "      <td>early adult stage</td>\n",
       "    </tr>\n",
       "    <tr>\n",
       "      <th>...</th>\n",
       "      <td>...</td>\n",
       "      <td>...</td>\n",
       "      <td>...</td>\n",
       "      <td>...</td>\n",
       "      <td>...</td>\n",
       "      <td>...</td>\n",
       "      <td>...</td>\n",
       "      <td>...</td>\n",
       "      <td>...</td>\n",
       "      <td>...</td>\n",
       "      <td>...</td>\n",
       "      <td>...</td>\n",
       "      <td>...</td>\n",
       "      <td>...</td>\n",
       "      <td>...</td>\n",
       "      <td>...</td>\n",
       "      <td>...</td>\n",
       "      <td>...</td>\n",
       "      <td>...</td>\n",
       "      <td>...</td>\n",
       "      <td>...</td>\n",
       "    </tr>\n",
       "    <tr>\n",
       "      <th>SM-GE66G_S146_E1-50</th>\n",
       "      <td>37.0</td>\n",
       "      <td>6098</td>\n",
       "      <td>L6 CT</td>\n",
       "      <td>L6 CT</td>\n",
       "      <td>Glutamatergic</td>\n",
       "      <td>#197A6E</td>\n",
       "      <td>1288.0</td>\n",
       "      <td>GlutamatergicL6 CT</td>\n",
       "      <td>ILX:0770162</td>\n",
       "      <td>EFO:0008930</td>\n",
       "      <td>...</td>\n",
       "      <td>True</td>\n",
       "      <td>NCBITaxon:10090</td>\n",
       "      <td>glutamatergic neuron</td>\n",
       "      <td>Smart-seq</td>\n",
       "      <td>normal</td>\n",
       "      <td>Mus musculus</td>\n",
       "      <td>male</td>\n",
       "      <td>primary motor cortex</td>\n",
       "      <td>na</td>\n",
       "      <td>early adult stage</td>\n",
       "    </tr>\n",
       "    <tr>\n",
       "      <th>SM-GE64N_S067_E1-50</th>\n",
       "      <td>22.0</td>\n",
       "      <td>1714</td>\n",
       "      <td>Pvalb Il1rapl2</td>\n",
       "      <td>Pvalb</td>\n",
       "      <td>GABAergic</td>\n",
       "      <td>#BC2C41</td>\n",
       "      <td>163.0</td>\n",
       "      <td>GABAergicPvalb</td>\n",
       "      <td>ILX:0770154</td>\n",
       "      <td>EFO:0008930</td>\n",
       "      <td>...</td>\n",
       "      <td>True</td>\n",
       "      <td>NCBITaxon:10090</td>\n",
       "      <td>GABAergic neuron</td>\n",
       "      <td>Smart-seq</td>\n",
       "      <td>normal</td>\n",
       "      <td>Mus musculus</td>\n",
       "      <td>male</td>\n",
       "      <td>primary motor cortex</td>\n",
       "      <td>na</td>\n",
       "      <td>early adult stage</td>\n",
       "    </tr>\n",
       "    <tr>\n",
       "      <th>SM-GE66N_S162_E1-50</th>\n",
       "      <td>37.0</td>\n",
       "      <td>4802</td>\n",
       "      <td>L6 CT</td>\n",
       "      <td>L6 CT</td>\n",
       "      <td>Glutamatergic</td>\n",
       "      <td>#197A6E</td>\n",
       "      <td>1288.0</td>\n",
       "      <td>GlutamatergicL6 CT</td>\n",
       "      <td>ILX:0770162</td>\n",
       "      <td>EFO:0008930</td>\n",
       "      <td>...</td>\n",
       "      <td>True</td>\n",
       "      <td>NCBITaxon:10090</td>\n",
       "      <td>glutamatergic neuron</td>\n",
       "      <td>Smart-seq</td>\n",
       "      <td>normal</td>\n",
       "      <td>Mus musculus</td>\n",
       "      <td>female</td>\n",
       "      <td>primary motor cortex</td>\n",
       "      <td>na</td>\n",
       "      <td>early adult stage</td>\n",
       "    </tr>\n",
       "    <tr>\n",
       "      <th>SM-GE66A_S184_E1-50</th>\n",
       "      <td>18.0</td>\n",
       "      <td>5295</td>\n",
       "      <td>Sst Pvalb Th</td>\n",
       "      <td>Sst</td>\n",
       "      <td>GABAergic</td>\n",
       "      <td>#FF2F7E</td>\n",
       "      <td>25.0</td>\n",
       "      <td>GABAergicSst</td>\n",
       "      <td>ILX:0770152</td>\n",
       "      <td>EFO:0008930</td>\n",
       "      <td>...</td>\n",
       "      <td>True</td>\n",
       "      <td>NCBITaxon:10090</td>\n",
       "      <td>GABAergic neuron</td>\n",
       "      <td>Smart-seq</td>\n",
       "      <td>normal</td>\n",
       "      <td>Mus musculus</td>\n",
       "      <td>female</td>\n",
       "      <td>primary motor cortex</td>\n",
       "      <td>na</td>\n",
       "      <td>early adult stage</td>\n",
       "    </tr>\n",
       "    <tr>\n",
       "      <th>SM-GE66O_S139_E1-50</th>\n",
       "      <td>22.0</td>\n",
       "      <td>4937</td>\n",
       "      <td>Pvalb Il1rapl2</td>\n",
       "      <td>Pvalb</td>\n",
       "      <td>GABAergic</td>\n",
       "      <td>#BC2C41</td>\n",
       "      <td>163.0</td>\n",
       "      <td>GABAergicPvalb</td>\n",
       "      <td>ILX:0770154</td>\n",
       "      <td>EFO:0008930</td>\n",
       "      <td>...</td>\n",
       "      <td>True</td>\n",
       "      <td>NCBITaxon:10090</td>\n",
       "      <td>GABAergic neuron</td>\n",
       "      <td>Smart-seq</td>\n",
       "      <td>normal</td>\n",
       "      <td>Mus musculus</td>\n",
       "      <td>female</td>\n",
       "      <td>primary motor cortex</td>\n",
       "      <td>na</td>\n",
       "      <td>early adult stage</td>\n",
       "    </tr>\n",
       "  </tbody>\n",
       "</table>\n",
       "<p>406187 rows × 28 columns</p>\n",
       "</div>"
      ],
      "text/plain": [
       "                     BICCN_cluster_id    QC BICCN_cluster_label  \\\n",
       "SM-D9D8O_S03_E1-50               48.0  1201         L6 CT Grp_1   \n",
       "SM-DAIH5_S47_E1-50               48.0  3678         L6 CT Grp_1   \n",
       "SM-DD44L_S43_E1-50                4.0  4495       Lamp5 Slc35d3   \n",
       "SM-D9E5O_S40_E1-50               49.0  1499         L6 CT Grp_2   \n",
       "LS-15533_S14_E12-50              37.0   391       L5 IT S100b_1   \n",
       "...                               ...   ...                 ...   \n",
       "SM-GE66G_S146_E1-50              37.0  6098               L6 CT   \n",
       "SM-GE64N_S067_E1-50              22.0  1714      Pvalb Il1rapl2   \n",
       "SM-GE66N_S162_E1-50              37.0  4802               L6 CT   \n",
       "SM-GE66A_S184_E1-50              18.0  5295        Sst Pvalb Th   \n",
       "SM-GE66O_S139_E1-50              22.0  4937      Pvalb Il1rapl2   \n",
       "\n",
       "                    BICCN_subclass_label BICCN_class_label cluster_color  \\\n",
       "SM-D9D8O_S03_E1-50                 L6 CT     Glutamatergic       #197A6E   \n",
       "SM-DAIH5_S47_E1-50                 L6 CT     Glutamatergic       #197A6E   \n",
       "SM-DD44L_S43_E1-50                 Lamp5         GABAergic       #FFA388   \n",
       "SM-D9E5O_S40_E1-50                 L6 CT     Glutamatergic       #358459   \n",
       "LS-15533_S14_E12-50                L5 IT     Glutamatergic       #00CF1F   \n",
       "...                                  ...               ...           ...   \n",
       "SM-GE66G_S146_E1-50                L6 CT     Glutamatergic       #197A6E   \n",
       "SM-GE64N_S067_E1-50                Pvalb         GABAergic       #BC2C41   \n",
       "SM-GE66N_S162_E1-50                L6 CT     Glutamatergic       #197A6E   \n",
       "SM-GE66A_S184_E1-50                  Sst         GABAergic       #FF2F7E   \n",
       "SM-GE66O_S139_E1-50                Pvalb         GABAergic       #BC2C41   \n",
       "\n",
       "                       size    temp_class_label BICCN_ontology_term_id  \\\n",
       "SM-D9D8O_S03_E1-50    781.0  GlutamatergicL6 CT            ILX:0770162   \n",
       "SM-DAIH5_S47_E1-50    781.0  GlutamatergicL6 CT            ILX:0770162   \n",
       "SM-DD44L_S43_E1-50    194.0      GABAergicLamp5            ILX:0770149   \n",
       "SM-D9E5O_S40_E1-50     24.0  GlutamatergicL6 CT            ILX:0770162   \n",
       "LS-15533_S14_E12-50   251.0  GlutamatergicL5 IT            ILX:0770157   \n",
       "...                     ...                 ...                    ...   \n",
       "SM-GE66G_S146_E1-50  1288.0  GlutamatergicL6 CT            ILX:0770162   \n",
       "SM-GE64N_S067_E1-50   163.0      GABAergicPvalb            ILX:0770154   \n",
       "SM-GE66N_S162_E1-50  1288.0  GlutamatergicL6 CT            ILX:0770162   \n",
       "SM-GE66A_S184_E1-50    25.0        GABAergicSst            ILX:0770152   \n",
       "SM-GE66O_S139_E1-50   163.0      GABAergicPvalb            ILX:0770154   \n",
       "\n",
       "                    assay_ontology_term_id  ... is_primary_data  \\\n",
       "SM-D9D8O_S03_E1-50             EFO:0008930  ...            True   \n",
       "SM-DAIH5_S47_E1-50             EFO:0008930  ...            True   \n",
       "SM-DD44L_S43_E1-50             EFO:0008930  ...            True   \n",
       "SM-D9E5O_S40_E1-50             EFO:0008930  ...            True   \n",
       "LS-15533_S14_E12-50            EFO:0008930  ...            True   \n",
       "...                                    ...  ...             ...   \n",
       "SM-GE66G_S146_E1-50            EFO:0008930  ...            True   \n",
       "SM-GE64N_S067_E1-50            EFO:0008930  ...            True   \n",
       "SM-GE66N_S162_E1-50            EFO:0008930  ...            True   \n",
       "SM-GE66A_S184_E1-50            EFO:0008930  ...            True   \n",
       "SM-GE66O_S139_E1-50            EFO:0008930  ...            True   \n",
       "\n",
       "                    organism_ontology_term_id             cell_type  \\\n",
       "SM-D9D8O_S03_E1-50            NCBITaxon:10090  glutamatergic neuron   \n",
       "SM-DAIH5_S47_E1-50            NCBITaxon:10090  glutamatergic neuron   \n",
       "SM-DD44L_S43_E1-50            NCBITaxon:10090      GABAergic neuron   \n",
       "SM-D9E5O_S40_E1-50            NCBITaxon:10090  glutamatergic neuron   \n",
       "LS-15533_S14_E12-50           NCBITaxon:10090  glutamatergic neuron   \n",
       "...                                       ...                   ...   \n",
       "SM-GE66G_S146_E1-50           NCBITaxon:10090  glutamatergic neuron   \n",
       "SM-GE64N_S067_E1-50           NCBITaxon:10090      GABAergic neuron   \n",
       "SM-GE66N_S162_E1-50           NCBITaxon:10090  glutamatergic neuron   \n",
       "SM-GE66A_S184_E1-50           NCBITaxon:10090      GABAergic neuron   \n",
       "SM-GE66O_S139_E1-50           NCBITaxon:10090      GABAergic neuron   \n",
       "\n",
       "                         assay disease      organism     sex  \\\n",
       "SM-D9D8O_S03_E1-50   Smart-seq  normal  Mus musculus    male   \n",
       "SM-DAIH5_S47_E1-50   Smart-seq  normal  Mus musculus    male   \n",
       "SM-DD44L_S43_E1-50   Smart-seq  normal  Mus musculus    male   \n",
       "SM-D9E5O_S40_E1-50   Smart-seq  normal  Mus musculus  female   \n",
       "LS-15533_S14_E12-50  Smart-seq  normal  Mus musculus  female   \n",
       "...                        ...     ...           ...     ...   \n",
       "SM-GE66G_S146_E1-50  Smart-seq  normal  Mus musculus    male   \n",
       "SM-GE64N_S067_E1-50  Smart-seq  normal  Mus musculus    male   \n",
       "SM-GE66N_S162_E1-50  Smart-seq  normal  Mus musculus  female   \n",
       "SM-GE66A_S184_E1-50  Smart-seq  normal  Mus musculus  female   \n",
       "SM-GE66O_S139_E1-50  Smart-seq  normal  Mus musculus  female   \n",
       "\n",
       "                                   tissue  ethnicity  development_stage  \n",
       "SM-D9D8O_S03_E1-50   primary motor cortex         na  early adult stage  \n",
       "SM-DAIH5_S47_E1-50   primary motor cortex         na  early adult stage  \n",
       "SM-DD44L_S43_E1-50   primary motor cortex         na  early adult stage  \n",
       "SM-D9E5O_S40_E1-50   primary motor cortex         na  early adult stage  \n",
       "LS-15533_S14_E12-50  primary motor cortex         na  early adult stage  \n",
       "...                                   ...        ...                ...  \n",
       "SM-GE66G_S146_E1-50  primary motor cortex         na  early adult stage  \n",
       "SM-GE64N_S067_E1-50  primary motor cortex         na  early adult stage  \n",
       "SM-GE66N_S162_E1-50  primary motor cortex         na  early adult stage  \n",
       "SM-GE66A_S184_E1-50  primary motor cortex         na  early adult stage  \n",
       "SM-GE66O_S139_E1-50  primary motor cortex         na  early adult stage  \n",
       "\n",
       "[406187 rows x 28 columns]"
      ]
     },
     "execution_count": 20,
     "metadata": {},
     "output_type": "execute_result"
    }
   ],
   "source": [
    "adata.obs"
   ]
  },
  {
   "cell_type": "code",
   "execution_count": 21,
   "id": "b1d79955",
   "metadata": {},
   "outputs": [],
   "source": [
    "a_obs = pd.DataFrame()"
   ]
  },
  {
   "cell_type": "code",
   "execution_count": 24,
   "id": "59d83adc",
   "metadata": {},
   "outputs": [],
   "source": [
    "a_obs['author_cell_type'] = adata.obs['BICCN_cluster_label']\n",
    "a_obs['author_subclass_type'] = adata.obs['BICCN_subclass_label']\n",
    "a_obs['cell_type_ontology_term_id'] = adata.obs['cell_type_ontology_term_id']"
   ]
  },
  {
   "cell_type": "code",
   "execution_count": 25,
   "id": "7d5b9c3f",
   "metadata": {},
   "outputs": [],
   "source": [
    "a_obs.to_csv(\"a_obs_layer.csv\")"
   ]
  },
  {
   "cell_type": "code",
   "execution_count": 34,
   "id": "cabc57df",
   "metadata": {},
   "outputs": [
    {
     "ename": "SyntaxError",
     "evalue": "invalid syntax (3116784630.py, line 3)",
     "output_type": "error",
     "traceback": [
      "\u001b[0;36m  Input \u001b[0;32mIn [34]\u001b[0;36m\u001b[0m\n\u001b[0;31m    print di.to_dict()\u001b[0m\n\u001b[0m          ^\u001b[0m\n\u001b[0;31mSyntaxError\u001b[0m\u001b[0;31m:\u001b[0m invalid syntax\n"
     ]
    }
   ],
   "source": [
    "xls = ExcelFile('path_to_file.xls')\n",
    "di = xls.parse(xls.sheet_names[0])\n",
    "print di.to_dict()"
   ]
  },
  {
   "cell_type": "code",
   "execution_count": null,
   "id": "0913a830",
   "metadata": {},
   "outputs": [],
   "source": [
    "di = {'CL:0009111': \"CL:0000844\", 'CL:0009112': \"CL:0000845\"}\n",
    "adata.obs.map({\"cell_type_ontology_term_id\": di})"
   ]
  },
  {
   "cell_type": "code",
   "execution_count": null,
   "id": "ee231fb4",
   "metadata": {},
   "outputs": [],
   "source": [
    "adata.obs['cell_type_ontology_term_id'][adata.obs['cell_type_ontology_term_id'] == 'CL:0009111'] = 'CL:0000844'"
   ]
  },
  {
   "cell_type": "code",
   "execution_count": null,
   "id": "cb9d023a",
   "metadata": {},
   "outputs": [],
   "source": [
    "adata.write(\"To_Cellxgene_spacetime_200922.h5ad\")"
   ]
  },
  {
   "cell_type": "code",
   "execution_count": null,
   "id": "d171fa7f",
   "metadata": {},
   "outputs": [],
   "source": []
  },
  {
   "cell_type": "code",
   "execution_count": null,
   "id": "0c73f5fc",
   "metadata": {},
   "outputs": [],
   "source": []
  },
  {
   "cell_type": "code",
   "execution_count": null,
   "id": "d4f77c6c",
   "metadata": {},
   "outputs": [],
   "source": [
    "rdata = sc.read(\"Full_obj_raw_counts_nosoupx.h5ad\")"
   ]
  },
  {
   "cell_type": "markdown",
   "id": "5f7cc0d3",
   "metadata": {},
   "source": [
    "Use the below cells if the given data is in the h5 file format"
   ]
  },
  {
   "cell_type": "code",
   "execution_count": null,
   "id": "49f0ed6f",
   "metadata": {},
   "outputs": [],
   "source": [
    "adata = sc.read_10x_h5(\"Full_ob_raw_counts_soupx.h5\")"
   ]
  },
  {
   "cell_type": "code",
   "execution_count": null,
   "id": "9ce6b9b2",
   "metadata": {},
   "outputs": [],
   "source": [
    "rdata = sc.read_10x_h5(\"Full_ob_raw_counts_nosoupx.h5\")"
   ]
  },
  {
   "cell_type": "markdown",
   "id": "29162ff0",
   "metadata": {},
   "source": [
    "## Prepare the hd5a layers need for CellxGene"
   ]
  },
  {
   "cell_type": "markdown",
   "id": "6dba4a74",
   "metadata": {},
   "source": [
    "### Prepare the obs layer\n",
    "\n",
    "First we extract the obs layer from the h5ad file that has been provided to us. Then we extract out the obs layer as a csv file. \n",
    "\n"
   ]
  },
  {
   "cell_type": "code",
   "execution_count": null,
   "id": "407ee81d",
   "metadata": {},
   "outputs": [],
   "source": [
    "a_obs = adata.obs\n",
    "a_obs.to_csv(\"a_obs_layer.csv\")"
   ]
  },
  {
   "cell_type": "code",
   "execution_count": null,
   "id": "a3ee94c8",
   "metadata": {},
   "outputs": [],
   "source": [
    "r_obs = rdata.obs\n",
    "r_obs.to_csv(\"r_obs_layer.csv\")"
   ]
  },
  {
   "cell_type": "markdown",
   "id": "b54a3151",
   "metadata": {},
   "source": [
    "Download the excel spreadsheet from the INGEST data submission, and navigate to the sequence_file page.\n",
    "Select the cell_suspension.biomaterial_core.biomaterial_id, cell_suspension.uuid, and library_preparation_protocol.protocol_core.protocol_id and filter for duplicates on those keys. This results in a unique set of cell_suspensions with their related data. \n",
    "\n",
    "See script here: https://github.com/ebi-ait/ingest-cellxgene-submitter#create-obs-layer-from-multiple-cell-suspension-uuids"
   ]
  },
  {
   "cell_type": "markdown",
   "id": "e2fdf4dc",
   "metadata": {},
   "source": [
    "The manual work here is  matching up unique HCA cell_suspensions and metadata with the  unique samples in the provided-h5ad file. We then generate a final obs_layer.csv which combines HCA metadata with the provided metadata from the contributor in matching rows. There is an opportunity for future automation here for scripts to perform the matching and to provide cell-type ontology terms. "
   ]
  },
  {
   "cell_type": "markdown",
   "id": "ca06ac46",
   "metadata": {},
   "source": [
    "For a list of fields which should be in the final obs_layer.csv see (https://github.com/chanzuckerberg/single-cell-curation/blob/main/schema/2.0.0/schema.md#obs-cell-metadata)\n",
    "- assay_ontology_term_id\n",
    "- cell_type_ontology_term_id\n",
    "- development_stage_ontology_term_id\n",
    "- disease_ontology_term_id\n",
    "- ethnicity_ontology_term_id\n",
    "- is_primary_data\n",
    "- organism_ontology_term_id\n",
    "- sex_ontology_term_id\n",
    "- tissue_ontology_term_id\n",
    "- donor_id"
   ]
  },
  {
   "cell_type": "markdown",
   "id": "960a6bfb",
   "metadata": {},
   "source": [
    "There is also some manual work here to select cell-type ontology terms from the free text cell-type provided by the contributors. There is an opportunity for future automation here to get scripts / work with other experts in ontology to do this. "
   ]
  },
  {
   "cell_type": "markdown",
   "id": "644e7c4a",
   "metadata": {},
   "source": [
    "Once we have the final combined obs_layer, then save it as \"obs_layer.csv\" and save it as a dobs2 object"
   ]
  },
  {
   "cell_type": "code",
   "execution_count": null,
   "id": "5f9fb555",
   "metadata": {
    "scrolled": true
   },
   "outputs": [],
   "source": [
    "dobs2 = pd.read_csv(\"obs_layer.csv\", sep=\",\")"
   ]
  },
  {
   "cell_type": "code",
   "execution_count": null,
   "id": "48a9d5bf",
   "metadata": {},
   "outputs": [],
   "source": [
    "dobs2 = dobs2.set_index(\"barcodes\", inplace = False)"
   ]
  },
  {
   "cell_type": "markdown",
   "id": "22cb3b02",
   "metadata": {},
   "source": [
    "Check here for redundant fields in the obs layer (e.g. tissue_label, donor_ext). Assay_ontology_term_id should be '10x v2 5' sequencing' as opposed to '10x TCR'.\n",
    "Development_stage and tissue should be made specific (e.g. 35-year old human stage).\n",
    "Unannotated cells use CL:0000003 (native cell).\n",
    "Check that certain fields in the obs layer should not be continuous / numerical, but should be categorical or string. Use the cells below to fix this if necessary."
   ]
  },
  {
   "cell_type": "code",
   "execution_count": null,
   "id": "844ad39c",
   "metadata": {},
   "outputs": [],
   "source": [
    "adata.obs = adata.obs.drop(['Unnamed: 18','author_tissue','tissue_label','donor_ext'], axis = 1)"
   ]
  },
  {
   "cell_type": "code",
   "execution_count": null,
   "id": "69fce684",
   "metadata": {},
   "outputs": [],
   "source": [
    "adata.obs.dtypes"
   ]
  },
  {
   "cell_type": "code",
   "execution_count": null,
   "id": "e8a181b2",
   "metadata": {},
   "outputs": [],
   "source": [
    "adata.obs = adata.obs.astype({'batch': 'category','cluster':'category'}, copy = False)"
   ]
  },
  {
   "cell_type": "markdown",
   "id": "792929d9",
   "metadata": {},
   "source": [
    "### Prepare the uns layer"
   ]
  },
  {
   "cell_type": "markdown",
   "id": "bb3f76d3",
   "metadata": {},
   "source": [
    "In cases where the uns layer already exists, rather than creating the uns layer, we will add to it.\n",
    "In this case, schema_version is 2.0.0 (although 3.0.0 is coming soon). Title is the name of the dataset. X_normalization is being deprecated in 3.0.0, but is the method of generating the X layer from the raw.X. "
   ]
  },
  {
   "cell_type": "code",
   "execution_count": null,
   "id": "6df5b6d0",
   "metadata": {},
   "outputs": [],
   "source": [
    "uns = adata.uns\n",
    "uns.keys"
   ]
  },
  {
   "cell_type": "code",
   "execution_count": null,
   "id": "088ef878",
   "metadata": {},
   "outputs": [],
   "source": [
    "uns['schema_version']='2.0.0'\n",
    "uns['title'] = \"Total - Cells of the human intestinal tract mapped across space and time\"\n",
    "uns[\"X_normalization\"] = \"10x Genomics Visium spatial sequencing samples were aligned to the human transcriptome GRCh38-3.0.0 reference (consistently with single-cell RNA-seq samples) using 10x Genomics SpaceRanger v.1.2.1 and exonic reads were used to produce mRNA count matrices for each sample. 10x Genomics SpaceRanger was also used to align paired histology images with mRNA capture spot positions in the Visium slide. The paired image was used to determine the average number of nuclei per Visium location in the tissue and used as a hyperparameter in the spatial mapping of cell types.\"\n",
    "uns"
   ]
  },
  {
   "cell_type": "markdown",
   "id": "4a8ca8b3",
   "metadata": {},
   "source": [
    "Else if the uns layer does not exist, then we will create it "
   ]
  },
  {
   "cell_type": "code",
   "execution_count": null,
   "id": "4dcb4a13",
   "metadata": {},
   "outputs": [],
   "source": [
    "uns ={\n",
    "    \"schema_version\": \"2.0.0\",\n",
    "    \"title\": \"Transcriptomic characterisation of haematopoietic stem and progenitor cells from human adult bone marrow, spleen and peripheral blood\",\n",
    "    \"X_normalization\": \"The 10x count matrices from both donors (after multiplet filtering) were processed with the Seurat (version 2.3.4) R package\",\n",
    "}"
   ]
  },
  {
   "cell_type": "markdown",
   "id": "fc97512f",
   "metadata": {},
   "source": [
    "### Check what's in the X, var and obs layers before editing them"
   ]
  },
  {
   "cell_type": "markdown",
   "id": "610a1176",
   "metadata": {},
   "source": [
    "Check that the obs_names from both annotated and raw matrices are the same"
   ]
  },
  {
   "cell_type": "code",
   "execution_count": null,
   "id": "347370f4",
   "metadata": {},
   "outputs": [],
   "source": [
    "t = normdata.obs_names==rawdata.obs_names\n",
    "np.count_nonzero(t)==normdata.X.shape[0]"
   ]
  },
  {
   "cell_type": "markdown",
   "id": "1a07ca87",
   "metadata": {},
   "source": [
    "Assuming both obs layers do not match, not even in length, we would need to select from the raw layer those samples that are in the annotated layer. If they do match then ignore this. \n",
    "\n",
    "keep_rindices is a measure for the raw layer obs samples which are also in the annotated layer. "
   ]
  },
  {
   "cell_type": "code",
   "execution_count": null,
   "id": "4df4c6ac",
   "metadata": {},
   "outputs": [],
   "source": [
    "condition_rdata = rdata.obs_names.isin(adata.obs_names)\n",
    "keep_rdata = rdata.obs_names[condition_rdata]\n",
    "keep_rindices = np.where(condition_rdata == True)"
   ]
  },
  {
   "cell_type": "markdown",
   "id": "475a594d",
   "metadata": {},
   "source": [
    "### Prepare the var layer\n",
    "\n",
    "In this case, we may need to perform different steps:\n",
    "- Map the gene IDs to ENSEMBL IDs (using a specific GTF file)\n",
    "- If any genes genes have been filtered out when the authors processed the raw matrix, they will not available in the annotated matrix. We need to add them to the processed matrix. We checked this by inspecting the matrices, but can be checked again by running the following cell"
   ]
  },
  {
   "cell_type": "markdown",
   "id": "c01a5584",
   "metadata": {},
   "source": [
    "Check that both dataframes have the same number of rows. If they are different, the authors filtered out some genes from the PROCESSED, and we will need to add them in. \n"
   ]
  },
  {
   "cell_type": "code",
   "execution_count": null,
   "id": "6c65e64a",
   "metadata": {},
   "outputs": [],
   "source": [
    "dvar = pd.DataFrame(data=adata.var)\n",
    "rvar = pd.DataFrame(data=rdata.var)\n",
    "dvar.shape[0] == rvar.shape[0]"
   ]
  },
  {
   "cell_type": "markdown",
   "id": "7999103a",
   "metadata": {},
   "source": [
    "Some of the features have been filtered out of the processed matrices. We have to add the filtered-out genes at the end of the matrices. For that, we are gonna first fill in the *feature_is_filtered* column at the rvar dataframe. We can then create a new dataframe dropping all the non filtered gene, and add this dataframe with the filtered genes at the end of dvar"
   ]
  },
  {
   "cell_type": "code",
   "execution_count": null,
   "id": "5aed7920",
   "metadata": {},
   "outputs": [],
   "source": [
    "genes_add = [x for x in rdata.var.index.to_list() if x not in adata.var.index.to_list()]\n",
    "all_genes = adata.var.index.to_list()\n",
    "all_genes.extend(genes_add)\n",
    "new_var = pd.DataFrame(index=all_genes)\n",
    "new_var = pd.merge(new_var, rdata.var, left_index=True, right_index=True, how='left')\n",
    "new_var['feature_is_filtered'] = False\n",
    "new_var.loc[genes_add, 'feature_is_filtered'] = True"
   ]
  },
  {
   "cell_type": "code",
   "execution_count": null,
   "id": "1a787400",
   "metadata": {},
   "outputs": [],
   "source": [
    "adata.var"
   ]
  },
  {
   "cell_type": "code",
   "execution_count": null,
   "id": "f060d643",
   "metadata": {},
   "outputs": [],
   "source": [
    "rdata.var"
   ]
  },
  {
   "cell_type": "code",
   "execution_count": null,
   "id": "9e7e46d8",
   "metadata": {},
   "outputs": [],
   "source": [
    "new_var"
   ]
  },
  {
   "cell_type": "code",
   "execution_count": null,
   "id": "42a16205",
   "metadata": {},
   "outputs": [],
   "source": [
    "rvar = rvar.set_index(\"gene_ids\")"
   ]
  },
  {
   "cell_type": "code",
   "execution_count": null,
   "id": "8689240e",
   "metadata": {},
   "outputs": [],
   "source": [
    "dvar = pd.read_csv('dvar.csv')"
   ]
  },
  {
   "cell_type": "code",
   "execution_count": null,
   "id": "c77d84ec",
   "metadata": {},
   "outputs": [],
   "source": [
    "dvar.pop('Gene_symbols')"
   ]
  },
  {
   "cell_type": "code",
   "execution_count": null,
   "id": "a50d976c",
   "metadata": {},
   "outputs": [],
   "source": [
    "dvar = dvar.set_index(\"gene_ids\")"
   ]
  },
  {
   "cell_type": "markdown",
   "id": "fd8cd9ab",
   "metadata": {},
   "source": [
    "### Prepare the X layer\n",
    "\n",
    "In this case, we need to:\n",
    "- Append to the processed X layer the counts for the genes that were filtered out. We will set them to 0."
   ]
  },
  {
   "cell_type": "markdown",
   "id": "97d5fcac",
   "metadata": {},
   "source": [
    "#### Filter out the genes that did not map to ENSEMBL IDs"
   ]
  },
  {
   "cell_type": "code",
   "execution_count": null,
   "id": "219a6759",
   "metadata": {},
   "outputs": [],
   "source": [
    "if rdata.shape[1] > adata.shape[1]:\n",
    "    genes_add = [x for x in rdata.var.index.to_list() if x not in adata.var.index.to_list()]\n",
    "    new_matrix = csr_matrix((adata.X.data, adata.X.indices, adata.X.indptr), shape = rdata.shape)\n",
    "    all_genes = adata.var.index.to_list()\n",
    "    all_genes.extend(genes_add)\n",
    "    new_var = pd.DataFrame(index=all_genes)\n",
    "    new_var = pd.merge(new_var, rdata.var, left_index=True, right_index=True, how='left')\n",
    "    new_var['feature_is_filtered'] = False\n",
    "    new_var.loc[genes_add, 'feature_is_filtered'] = True\n",
    "    new_adata = ad.AnnData(X=new_matrix, obs=adata.obs, var=dvar, uns=adata.uns, obsm=adata.obsm)\n",
    "    new_adata = new_adata[:,rdata.var['gene_ids'].to_list()]\n",
    "else:\n",
    "    print('whoops')"
   ]
  },
  {
   "cell_type": "code",
   "execution_count": null,
   "id": "7f93a502",
   "metadata": {},
   "outputs": [],
   "source": [
    "new_adata = new_adata[:,cxg_adata_raw.var.index.to_list()]\n"
   ]
  },
  {
   "cell_type": "code",
   "execution_count": null,
   "id": "bbf34863",
   "metadata": {},
   "outputs": [],
   "source": [
    "print(new_adata.X)"
   ]
  },
  {
   "cell_type": "code",
   "execution_count": null,
   "id": "844fdcb8",
   "metadata": {},
   "outputs": [],
   "source": [
    "dExprs = normdata.X.toarray()\n",
    "dExprs = pd.DataFrame(data=dExprs)\n",
    "print(dExprs.shape)"
   ]
  },
  {
   "cell_type": "code",
   "execution_count": null,
   "id": "65b4b183",
   "metadata": {},
   "outputs": [],
   "source": [
    "rExprs = rawdata.X.toarray()"
   ]
  },
  {
   "cell_type": "code",
   "execution_count": null,
   "id": "15b11f63",
   "metadata": {},
   "outputs": [],
   "source": [
    "rExprs = rExprs.set_axis(rvar.index.to_list(), axis=1, inplace=False)"
   ]
  },
  {
   "cell_type": "markdown",
   "id": "893649ca",
   "metadata": {},
   "source": [
    "#### Append the genes filtered out by the authors when processing the X layer"
   ]
  },
  {
   "cell_type": "code",
   "execution_count": null,
   "id": "fd959a8a",
   "metadata": {},
   "outputs": [],
   "source": [
    "genesToAdd = dvar.loc[dvar['feature_is_filtered'] == True]"
   ]
  },
  {
   "cell_type": "code",
   "execution_count": null,
   "id": "e7140b11",
   "metadata": {},
   "outputs": [],
   "source": [
    "dExprs = dExprs.reindex(columns=[*dExprs.columns.tolist(), *genesToAdd.index.to_list()], fill_value=0.0)"
   ]
  },
  {
   "cell_type": "code",
   "execution_count": null,
   "id": "d1bf3e22",
   "metadata": {},
   "outputs": [],
   "source": [
    "dExprs"
   ]
  },
  {
   "cell_type": "code",
   "execution_count": null,
   "id": "a9d2fa2f",
   "metadata": {},
   "outputs": [],
   "source": [
    "dExprs.to_csv(\"dExprs_added_genes.csv\")"
   ]
  },
  {
   "cell_type": "code",
   "execution_count": null,
   "id": "7603283a",
   "metadata": {},
   "outputs": [],
   "source": [
    "dExprs = dExprs.set_axis(dvar.index.to_list(), axis=1, inplace=False)\n",
    "print(dExprs.shape)"
   ]
  },
  {
   "cell_type": "markdown",
   "id": "953ac0c4",
   "metadata": {},
   "source": [
    "## Prepare the hd5a file\n"
   ]
  },
  {
   "cell_type": "code",
   "execution_count": null,
   "id": "4c7b4111",
   "metadata": {},
   "outputs": [],
   "source": [
    "# Generate annotated h5ad matrix\n",
    "# To speed up the matrices can also run: adata.X = csr_matrix(adata.X)\n",
    "del dExprs\n"
   ]
  },
  {
   "cell_type": "code",
   "execution_count": null,
   "id": "28634fc9",
   "metadata": {},
   "outputs": [],
   "source": [
    "hdata = ad.AnnData(X=dExprs, var=dvar)\n",
    "del dExprs_np\n",
    "del dvar\n"
   ]
  },
  {
   "cell_type": "code",
   "execution_count": null,
   "id": "c1d381fa",
   "metadata": {},
   "outputs": [],
   "source": [
    "hdata.uns = uns\n"
   ]
  },
  {
   "cell_type": "code",
   "execution_count": null,
   "id": "f4741660",
   "metadata": {},
   "outputs": [],
   "source": [
    "hdata.obs = dobs2\n"
   ]
  },
  {
   "cell_type": "code",
   "execution_count": null,
   "id": "e83612bd",
   "metadata": {},
   "outputs": [],
   "source": [
    "hdata.obsm = normdata.obsm"
   ]
  },
  {
   "cell_type": "code",
   "execution_count": null,
   "id": "9de2f4e9",
   "metadata": {},
   "outputs": [],
   "source": [
    "hdata.obs"
   ]
  },
  {
   "cell_type": "code",
   "execution_count": null,
   "id": "a65c974e",
   "metadata": {},
   "outputs": [],
   "source": [
    "# Generate annotated h5ad matrix\n",
    "# To speed up the matrices can also run: adata.X = csr_matrix(adata.X)\n",
    "hdata = ad.AnnData(X=dExprs, obs=dobs2, var=dvar ,obsm=normdata.obsm, uns=uns)"
   ]
  },
  {
   "cell_type": "markdown",
   "id": "5290d9ee",
   "metadata": {},
   "source": [
    "Save the annotated matrix"
   ]
  },
  {
   "cell_type": "code",
   "execution_count": null,
   "id": "0a099c1d",
   "metadata": {},
   "outputs": [],
   "source": [
    "new_adata.var.pop('mt')"
   ]
  },
  {
   "cell_type": "code",
   "execution_count": null,
   "id": "92081562",
   "metadata": {},
   "outputs": [],
   "source": [
    "new_adata.var = new_adata.var.astype({'mt': 'string'})\n"
   ]
  },
  {
   "cell_type": "code",
   "execution_count": null,
   "id": "35d93d57",
   "metadata": {},
   "outputs": [],
   "source": [
    "new_adata.var.dtypes"
   ]
  },
  {
   "cell_type": "code",
   "execution_count": null,
   "id": "73a65d1a",
   "metadata": {},
   "outputs": [],
   "source": [
    "new_adata.obs['Age']"
   ]
  },
  {
   "cell_type": "code",
   "execution_count": null,
   "id": "dfb62143",
   "metadata": {},
   "outputs": [],
   "source": [
    "new_adata.write_h5ad(\"normalized_spacetime_matrix_edited.h5ad\")"
   ]
  },
  {
   "cell_type": "code",
   "execution_count": null,
   "id": "96a2079e",
   "metadata": {},
   "outputs": [],
   "source": [
    "hdata = new_adata"
   ]
  },
  {
   "cell_type": "markdown",
   "id": "e0864826",
   "metadata": {},
   "source": [
    "Generate raw h5ad matrix, in this case raw.var is not the same as var, as some genes have been filtered out"
   ]
  },
  {
   "cell_type": "code",
   "execution_count": null,
   "id": "2f1c06dc",
   "metadata": {},
   "outputs": [],
   "source": [
    "# Generate raw h5ad matrix, raw.var is not always going to be the same as var, but it is in this case because the\n",
    "# genes being investigated are identical and nothing was filtered out \n",
    "idata = ad.AnnData(X=cxg_adata_raw.X, var=rvar)"
   ]
  },
  {
   "cell_type": "code",
   "execution_count": null,
   "id": "64cb06d4",
   "metadata": {},
   "outputs": [],
   "source": [
    "idata.write(\"raw_spacetime_matrix_edited.h5ad\")"
   ]
  },
  {
   "cell_type": "markdown",
   "id": "df475130",
   "metadata": {},
   "source": [
    "## Filter allowed ENSEMBL IDs\n",
    "CellxGene only allows a set of genes (ENSEMBL IDs) to be included in their matrices. We need to filter those out."
   ]
  },
  {
   "cell_type": "code",
   "execution_count": null,
   "id": "0fd84d8a",
   "metadata": {},
   "outputs": [],
   "source": [
    "# Read in the saved objects if you start from here this section\n",
    "hdata = sc.read('normalized_spacetime_matrix_edited.h5ad')\n",
    "idata = sc.read('raw_spacetime_matrix_edited.h5ad')"
   ]
  },
  {
   "cell_type": "code",
   "execution_count": null,
   "id": "501485e5",
   "metadata": {},
   "outputs": [],
   "source": [
    "idata.var.drop(\"noVersionENS\",axis=1,inplace=True)"
   ]
  },
  {
   "cell_type": "code",
   "execution_count": null,
   "id": "1d2039dd",
   "metadata": {},
   "outputs": [],
   "source": [
    "hdata.var"
   ]
  },
  {
   "cell_type": "code",
   "execution_count": null,
   "id": "b04abfba",
   "metadata": {},
   "outputs": [],
   "source": [
    "# idata.var.set_index(\"noVersionENS\", inplace=True)\n",
    "idata.var = idata.var.drop('feature_is_filtered', axis = 'columns')"
   ]
  },
  {
   "cell_type": "code",
   "execution_count": null,
   "id": "3f7e7770",
   "metadata": {},
   "outputs": [],
   "source": [
    "idata.var"
   ]
  },
  {
   "cell_type": "code",
   "execution_count": null,
   "id": "5aac4d03",
   "metadata": {},
   "outputs": [],
   "source": [
    "hdata.var.index"
   ]
  },
  {
   "cell_type": "code",
   "execution_count": null,
   "id": "254cc117",
   "metadata": {},
   "outputs": [],
   "source": [
    "#  Filter out allowed ENSEMBL IDs from annotated matrix\n",
    "approved = pd.read_csv('/Users/wteh/Documents/Wrangling/Cellxgene/KnowledgeShare/allowed_genes.txt',dtype='str')['feature_id'].to_list()\n",
    "\n",
    "var_to_keep = hdata.var.index.tolist()\n",
    "var_to_keep\n",
    "var_in_approved = hdata.var.index[hdata.var.index.isin(approved)].tolist()\n",
    "var_to_keep = [e for e in var_to_keep if e in var_in_approved]\n",
    "hdata = hdata[:, var_to_keep]"
   ]
  },
  {
   "cell_type": "code",
   "execution_count": null,
   "id": "ec05654b",
   "metadata": {},
   "outputs": [],
   "source": [
    "var_to_keep = idata.var.index.tolist()\n",
    "var_to_keep\n",
    "var_in_approved = idata.var.index[idata.var.index.isin(approved)].tolist()\n",
    "var_to_keep = [e for e in var_to_keep if e in var_in_approved]\n",
    "idata = idata[:, var_to_keep]"
   ]
  },
  {
   "cell_type": "code",
   "execution_count": null,
   "id": "da97fbdd",
   "metadata": {},
   "outputs": [],
   "source": [
    "hdata.var.shape"
   ]
  },
  {
   "cell_type": "markdown",
   "id": "3b8a888b",
   "metadata": {},
   "source": [
    "## Add raw matrix to hdata\n"
   ]
  },
  {
   "cell_type": "code",
   "execution_count": null,
   "id": "2c91260d",
   "metadata": {},
   "outputs": [],
   "source": [
    "# Add raw X matrix and raw var to the h5ad matrix \n",
    "hdata.raw = idata"
   ]
  },
  {
   "cell_type": "code",
   "execution_count": null,
   "id": "e9013e8f",
   "metadata": {},
   "outputs": [],
   "source": [
    "#if needed, transfer to sparse matrix format\n",
    "if type(hdata.X) != \"sparse.csr.csr_matrix\":\n",
    "    print('converting X to sparse')\n",
    "    hdata.X = csr_matrix(hdata.X)\n",
    "# if hdata.raw:\n",
    "#     if type(hdata.raw.X) != \"sparse.csr.csr_matrix\":\n",
    "#         print('converting raw.X to sparse')\n",
    "#         raw_adata = ad.AnnData(hdata.raw.X, var=hdata.raw.var, obs=hdata.obs)\n",
    "#         raw_adata.X = csr_matrix(raw_adata.X)\n",
    "#         hdata.raw = raw_adata"
   ]
  },
  {
   "cell_type": "code",
   "execution_count": null,
   "id": "c46815f0",
   "metadata": {
    "scrolled": true
   },
   "outputs": [],
   "source": [
    "hdata.write(\"To_Cellxgene_spacetime_230822.h5ad\")"
   ]
  },
  {
   "cell_type": "code",
   "execution_count": null,
   "id": "9e2b77e1",
   "metadata": {},
   "outputs": [],
   "source": []
  },
  {
   "cell_type": "code",
   "execution_count": null,
   "id": "44c99c07",
   "metadata": {},
   "outputs": [],
   "source": [
    "adata.obs.dtypes"
   ]
  },
  {
   "cell_type": "markdown",
   "id": "cb0ae407",
   "metadata": {},
   "source": [
    "## Validate before sending to CellxGene"
   ]
  },
  {
   "cell_type": "markdown",
   "id": "b4de65fd",
   "metadata": {},
   "source": [
    "\n",
    "Run the cellxgene-schema validate tool which validates if a h5ad object meets cellxgene schema. See details here: https://github.com/chanzuckerberg/single-cell-curation"
   ]
  },
  {
   "cell_type": "code",
   "execution_count": null,
   "id": "c5df3e3e",
   "metadata": {},
   "outputs": [],
   "source": [
    "hdata = sc.read('To_Cellxgene_spacetime_190822.h5ad')\n"
   ]
  },
  {
   "cell_type": "code",
   "execution_count": null,
   "id": "6570e86a",
   "metadata": {},
   "outputs": [],
   "source": [
    "hdata.obs = dobs2"
   ]
  },
  {
   "cell_type": "code",
   "execution_count": null,
   "id": "ce7852c5",
   "metadata": {},
   "outputs": [],
   "source": [
    "hdata.obs"
   ]
  },
  {
   "cell_type": "code",
   "execution_count": null,
   "id": "d17166f2",
   "metadata": {},
   "outputs": [],
   "source": [
    "hdata.uns = uns"
   ]
  },
  {
   "cell_type": "code",
   "execution_count": null,
   "id": "c1ce721f",
   "metadata": {},
   "outputs": [],
   "source": [
    "hdata.obs['disease_ontology_term_id']"
   ]
  },
  {
   "cell_type": "code",
   "execution_count": null,
   "id": "24be4a77",
   "metadata": {},
   "outputs": [],
   "source": [
    "hdata.obs['disease_ontology_term_id'][hdata.obs['disease_ontology_term_id'] == 'EFO:0000384'] = 'MONDO:0005011'"
   ]
  },
  {
   "cell_type": "code",
   "execution_count": null,
   "id": "b2718e61",
   "metadata": {},
   "outputs": [],
   "source": [
    "MONDO:0005011"
   ]
  },
  {
   "cell_type": "code",
   "execution_count": null,
   "id": "8d562cbb",
   "metadata": {},
   "outputs": [],
   "source": [
    "rawdata.var"
   ]
  },
  {
   "cell_type": "code",
   "execution_count": null,
   "id": "7c85bc24",
   "metadata": {},
   "outputs": [],
   "source": [
    "hdata.raw.var\n"
   ]
  },
  {
   "cell_type": "code",
   "execution_count": null,
   "id": "afe5085f",
   "metadata": {},
   "outputs": [],
   "source": [
    "normdata.var"
   ]
  },
  {
   "cell_type": "code",
   "execution_count": null,
   "id": "4171729f",
   "metadata": {
    "scrolled": true
   },
   "outputs": [],
   "source": [
    "hdata.var"
   ]
  },
  {
   "cell_type": "code",
   "execution_count": null,
   "id": "a8400f1d",
   "metadata": {},
   "outputs": [],
   "source": [
    "hdata.obs = hdata.obs.drop({'Age','Gender','Region code','sample name'}, axis = 'columns')"
   ]
  },
  {
   "cell_type": "code",
   "execution_count": null,
   "id": "7b41e43f",
   "metadata": {},
   "outputs": [],
   "source": [
    "hdata.var"
   ]
  },
  {
   "cell_type": "code",
   "execution_count": null,
   "id": "05560d7f",
   "metadata": {},
   "outputs": [],
   "source": [
    "hda"
   ]
  },
  {
   "cell_type": "code",
   "execution_count": null,
   "id": "c226ff84",
   "metadata": {},
   "outputs": [],
   "source": [
    "hdata.var['feature_biotype'] = 'gene'"
   ]
  },
  {
   "cell_type": "code",
   "execution_count": null,
   "id": "2533939a",
   "metadata": {},
   "outputs": [],
   "source": [
    "hdata.raw.var['feature_biotype'] = 'gene'"
   ]
  },
  {
   "cell_type": "code",
   "execution_count": null,
   "id": "b7e4f595",
   "metadata": {},
   "outputs": [],
   "source": [
    "hdata.obs = hdata.obs.astype({\"disease_ontology_term_id\":\"category\"})"
   ]
  },
  {
   "cell_type": "code",
   "execution_count": null,
   "id": "e55b71d7",
   "metadata": {},
   "outputs": [],
   "source": [
    "hdata.obs.dtypes"
   ]
  },
  {
   "cell_type": "code",
   "execution_count": null,
   "id": "1da1f357",
   "metadata": {},
   "outputs": [],
   "source": [
    "hdata.var.pop('mt')"
   ]
  },
  {
   "cell_type": "code",
   "execution_count": null,
   "id": "2294980a",
   "metadata": {},
   "outputs": [],
   "source": [
    "hdata.obs['is_primary_data']"
   ]
  },
  {
   "cell_type": "code",
   "execution_count": null,
   "id": "7f5cee63",
   "metadata": {},
   "outputs": [],
   "source": [
    "hdata.obs['is_primary_data'] = hdata.obs['is_primary_data'].replace('no', False)\n"
   ]
  },
  {
   "cell_type": "code",
   "execution_count": null,
   "id": "9763586c",
   "metadata": {},
   "outputs": [],
   "source": [
    "hdata.obs = hdata.obs.astype({\"is_primary_data\":\"bool\"})"
   ]
  },
  {
   "cell_type": "code",
   "execution_count": null,
   "id": "0d1b1999",
   "metadata": {},
   "outputs": [],
   "source": [
    "hdata.obs['cell_type_ontology_term_id'][hdata.obs['cell_type_ontology_term_id'] == 'CL:0009111'] = 'CL:0000844'"
   ]
  },
  {
   "cell_type": "code",
   "execution_count": null,
   "id": "e8bac27b",
   "metadata": {},
   "outputs": [],
   "source": [
    "hdata.obs['cell_type_ontology_term_id']"
   ]
  },
  {
   "cell_type": "code",
   "execution_count": null,
   "id": "7bd73ef3",
   "metadata": {},
   "outputs": [],
   "source": []
  },
  {
   "cell_type": "code",
   "execution_count": null,
   "id": "efdf5e7a",
   "metadata": {},
   "outputs": [],
   "source": [
    "CL: 0009112, CL: 0009111, CL: 0009105"
   ]
  },
  {
   "cell_type": "code",
   "execution_count": null,
   "id": "fbe6b9db",
   "metadata": {},
   "outputs": [],
   "source": [
    "CL:0009112 - centroblast - CL:0000844 (germinal center B cell)\n",
    "CL:0009111 - centrocyte - CL:0000844 (germinal center B cell)\n",
    "CL:0009105 - T cell zone reticular cell - CL:0009102 (lymph node fibroblastic reticular cell)"
   ]
  },
  {
   "cell_type": "code",
   "execution_count": null,
   "id": "e156caab",
   "metadata": {},
   "outputs": [],
   "source": []
  },
  {
   "cell_type": "code",
   "execution_count": null,
   "id": "d9029e37",
   "metadata": {},
   "outputs": [],
   "source": [
    "rExprs = rExprs.set_axis(rvarOrIndex, axis=1, inplace=False)\n",
    "rExprs = rExprs.loc[:,rKeepFeatIndex]\n",
    "print(rExprs.shape)"
   ]
  }
 ],
 "metadata": {
  "kernelspec": {
   "display_name": "Python 3 (ipykernel)",
   "language": "python",
   "name": "python3"
  },
  "language_info": {
   "codemirror_mode": {
    "name": "ipython",
    "version": 3
   },
   "file_extension": ".py",
   "mimetype": "text/x-python",
   "name": "python",
   "nbconvert_exporter": "python",
   "pygments_lexer": "ipython3",
   "version": "3.9.6"
  }
 },
 "nbformat": 4,
 "nbformat_minor": 5
}
